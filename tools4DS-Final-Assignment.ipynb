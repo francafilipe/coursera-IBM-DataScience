{
    "cells": [
        {
            "metadata": {
                "collapsed": true
            },
            "cell_type": "markdown",
            "source": "My Jupyter Notebook on IBM Watson Studio\n======"
        },
        {
            "metadata": {},
            "cell_type": "markdown",
            "source": "__Filipe Fran\u00e7a__ \n\nAerospace Engineering Intern"
        },
        {
            "metadata": {},
            "cell_type": "markdown",
            "source": "_I am interested in data science because I want to use data scicence and ML skills to get insigths for aerospace technical data._"
        },
        {
            "metadata": {},
            "cell_type": "markdown",
            "source": "### The code presented bellow is a function for analytically calculate the fibonacci sequence value for a input position"
        },
        {
            "metadata": {},
            "cell_type": "code",
            "source": "from math import sqrt\n\ndef fibonacci(index):\n    # Returns de value of the fibonacci series in the predefined index\n    value = (sqrt(5)/5)*(((1+sqrt(5))/2)**(index+1))-(sqrt(5)/5)*(((1-sqrt(5))/2)**(index+1))\n    return value\n\nprint(fibonacci(4))",
            "execution_count": 10,
            "outputs": [
                {
                    "output_type": "stream",
                    "text": "5.000000000000001\n",
                    "name": "stdout"
                }
            ]
        },
        {
            "metadata": {},
            "cell_type": "markdown",
            "source": "## References & Links\n\n1. [**GitHub** Project Page](https://github.com/francafilipe/coursera-IBM-DataScience)\n2. [Author's LinkedIn Profile](https://www.linkedin.com/in/francafilipe/)\n\n\n___\n\n## Change Log\n___\n| Date          | Changed by    | Change Description  |\n| ------------- |:-------------:| -----:|\n| 09-06-2022    | Filipe Fran\u00e7a | Created |\n| --            | --            |   -- |\n"
        },
        {
            "metadata": {},
            "cell_type": "code",
            "source": "",
            "execution_count": null,
            "outputs": []
        }
    ],
    "metadata": {
        "kernelspec": {
            "name": "python3",
            "display_name": "Python 3.9",
            "language": "python"
        },
        "language_info": {
            "name": "python",
            "version": "3.9.7",
            "mimetype": "text/x-python",
            "codemirror_mode": {
                "name": "ipython",
                "version": 3
            },
            "pygments_lexer": "ipython3",
            "nbconvert_exporter": "python",
            "file_extension": ".py"
        }
    },
    "nbformat": 4,
    "nbformat_minor": 1
}