{
    "cells": [
        {
            "metadata": {
                "collapsed": true
            },
            "cell_type": "markdown",
            "source": "# First Notebook\n\nThis notebook was created as an activity to create and publish it to github. The purpose of the activity was to get a first try on the functionalities of creating a jupyter notebook within the IBM Watson Studio environment, conecting the Project to a GitHub repository and then, publishing the notebook to the git project.\n\nAuthor: Filipe Fran\u00e7a\nCreated: June 8th, 2022\nChanged: -"
        },
        {
            "metadata": {},
            "cell_type": "code",
            "source": "",
            "execution_count": null,
            "outputs": []
        }
    ],
    "metadata": {
        "kernelspec": {
            "name": "python3",
            "display_name": "Python 3.9",
            "language": "python"
        },
        "language_info": {
            "name": "python",
            "version": "3.9.7",
            "mimetype": "text/x-python",
            "codemirror_mode": {
                "name": "ipython",
                "version": 3
            },
            "pygments_lexer": "ipython3",
            "nbconvert_exporter": "python",
            "file_extension": ".py"
        }
    },
    "nbformat": 4,
    "nbformat_minor": 1
}